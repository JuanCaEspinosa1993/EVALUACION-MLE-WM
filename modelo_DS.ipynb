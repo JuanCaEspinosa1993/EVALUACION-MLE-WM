{
 "cells": [
  {
   "cell_type": "code",
   "execution_count": 1,
   "id": "fdf8d02a",
   "metadata": {},
   "outputs": [],
   "source": [
    "from sklearn.preprocessing import StandardScaler\n",
    "from sklearn.cluster import KMeans\n",
    "import pandas as pd\n",
    "import numpy as np\n",
    "import matplotlib.pyplot as plt\n",
    "##from pandas.plotting import parallel_coordinates\n",
    "from sklearn.metrics import accuracy_score\n",
    "from sklearn.model_selection import train_test_split\n",
    "from sklearn.tree import DecisionTreeClassifier\n",
    "import seaborn as sns\n",
    "from sklearn import tree\n",
    "##plt.style.use(\"seaborn-dark\")\n",
    "plt.style.use('seaborn-v0_8-dark')"
   ]
  },
  {
   "cell_type": "code",
   "execution_count": 2,
   "id": "7a17a3ee",
   "metadata": {},
   "outputs": [],
   "source": [
    "df = pd.read_csv('weatherAUS.csv')"
   ]
  },
  {
   "cell_type": "code",
   "execution_count": 3,
   "id": "d2491bb1",
   "metadata": {},
   "outputs": [
    {
     "data": {
      "text/html": [
       "<div>\n",
       "<style scoped>\n",
       "    .dataframe tbody tr th:only-of-type {\n",
       "        vertical-align: middle;\n",
       "    }\n",
       "\n",
       "    .dataframe tbody tr th {\n",
       "        vertical-align: top;\n",
       "    }\n",
       "\n",
       "    .dataframe thead th {\n",
       "        text-align: right;\n",
       "    }\n",
       "</style>\n",
       "<table border=\"1\" class=\"dataframe\">\n",
       "  <thead>\n",
       "    <tr style=\"text-align: right;\">\n",
       "      <th></th>\n",
       "      <th>Date</th>\n",
       "      <th>Location</th>\n",
       "      <th>MinTemp</th>\n",
       "      <th>MaxTemp</th>\n",
       "      <th>Rainfall</th>\n",
       "      <th>Evaporation</th>\n",
       "      <th>Sunshine</th>\n",
       "      <th>WindGustDir</th>\n",
       "      <th>WindGustSpeed</th>\n",
       "      <th>WindDir9am</th>\n",
       "      <th>...</th>\n",
       "      <th>Humidity9am</th>\n",
       "      <th>Humidity3pm</th>\n",
       "      <th>Pressure9am</th>\n",
       "      <th>Pressure3pm</th>\n",
       "      <th>Cloud9am</th>\n",
       "      <th>Cloud3pm</th>\n",
       "      <th>Temp9am</th>\n",
       "      <th>Temp3pm</th>\n",
       "      <th>RainToday</th>\n",
       "      <th>RainTomorrow</th>\n",
       "    </tr>\n",
       "  </thead>\n",
       "  <tbody>\n",
       "    <tr>\n",
       "      <th>0</th>\n",
       "      <td>2008-12-01</td>\n",
       "      <td>Albury</td>\n",
       "      <td>13.4</td>\n",
       "      <td>22.9</td>\n",
       "      <td>0.6</td>\n",
       "      <td>NaN</td>\n",
       "      <td>NaN</td>\n",
       "      <td>W</td>\n",
       "      <td>44.0</td>\n",
       "      <td>W</td>\n",
       "      <td>...</td>\n",
       "      <td>71.0</td>\n",
       "      <td>22.0</td>\n",
       "      <td>1007.7</td>\n",
       "      <td>1007.1</td>\n",
       "      <td>8.0</td>\n",
       "      <td>NaN</td>\n",
       "      <td>16.9</td>\n",
       "      <td>21.8</td>\n",
       "      <td>No</td>\n",
       "      <td>No</td>\n",
       "    </tr>\n",
       "    <tr>\n",
       "      <th>1</th>\n",
       "      <td>2008-12-02</td>\n",
       "      <td>Albury</td>\n",
       "      <td>7.4</td>\n",
       "      <td>25.1</td>\n",
       "      <td>0.0</td>\n",
       "      <td>NaN</td>\n",
       "      <td>NaN</td>\n",
       "      <td>WNW</td>\n",
       "      <td>44.0</td>\n",
       "      <td>NNW</td>\n",
       "      <td>...</td>\n",
       "      <td>44.0</td>\n",
       "      <td>25.0</td>\n",
       "      <td>1010.6</td>\n",
       "      <td>1007.8</td>\n",
       "      <td>NaN</td>\n",
       "      <td>NaN</td>\n",
       "      <td>17.2</td>\n",
       "      <td>24.3</td>\n",
       "      <td>No</td>\n",
       "      <td>No</td>\n",
       "    </tr>\n",
       "    <tr>\n",
       "      <th>2</th>\n",
       "      <td>2008-12-03</td>\n",
       "      <td>Albury</td>\n",
       "      <td>12.9</td>\n",
       "      <td>25.7</td>\n",
       "      <td>0.0</td>\n",
       "      <td>NaN</td>\n",
       "      <td>NaN</td>\n",
       "      <td>WSW</td>\n",
       "      <td>46.0</td>\n",
       "      <td>W</td>\n",
       "      <td>...</td>\n",
       "      <td>38.0</td>\n",
       "      <td>30.0</td>\n",
       "      <td>1007.6</td>\n",
       "      <td>1008.7</td>\n",
       "      <td>NaN</td>\n",
       "      <td>2.0</td>\n",
       "      <td>21.0</td>\n",
       "      <td>23.2</td>\n",
       "      <td>No</td>\n",
       "      <td>No</td>\n",
       "    </tr>\n",
       "    <tr>\n",
       "      <th>3</th>\n",
       "      <td>2008-12-04</td>\n",
       "      <td>Albury</td>\n",
       "      <td>9.2</td>\n",
       "      <td>28.0</td>\n",
       "      <td>0.0</td>\n",
       "      <td>NaN</td>\n",
       "      <td>NaN</td>\n",
       "      <td>NE</td>\n",
       "      <td>24.0</td>\n",
       "      <td>SE</td>\n",
       "      <td>...</td>\n",
       "      <td>45.0</td>\n",
       "      <td>16.0</td>\n",
       "      <td>1017.6</td>\n",
       "      <td>1012.8</td>\n",
       "      <td>NaN</td>\n",
       "      <td>NaN</td>\n",
       "      <td>18.1</td>\n",
       "      <td>26.5</td>\n",
       "      <td>No</td>\n",
       "      <td>No</td>\n",
       "    </tr>\n",
       "    <tr>\n",
       "      <th>4</th>\n",
       "      <td>2008-12-05</td>\n",
       "      <td>Albury</td>\n",
       "      <td>17.5</td>\n",
       "      <td>32.3</td>\n",
       "      <td>1.0</td>\n",
       "      <td>NaN</td>\n",
       "      <td>NaN</td>\n",
       "      <td>W</td>\n",
       "      <td>41.0</td>\n",
       "      <td>ENE</td>\n",
       "      <td>...</td>\n",
       "      <td>82.0</td>\n",
       "      <td>33.0</td>\n",
       "      <td>1010.8</td>\n",
       "      <td>1006.0</td>\n",
       "      <td>7.0</td>\n",
       "      <td>8.0</td>\n",
       "      <td>17.8</td>\n",
       "      <td>29.7</td>\n",
       "      <td>No</td>\n",
       "      <td>No</td>\n",
       "    </tr>\n",
       "  </tbody>\n",
       "</table>\n",
       "<p>5 rows × 23 columns</p>\n",
       "</div>"
      ],
      "text/plain": [
       "         Date Location  MinTemp  MaxTemp  Rainfall  Evaporation  Sunshine  \\\n",
       "0  2008-12-01   Albury     13.4     22.9       0.6          NaN       NaN   \n",
       "1  2008-12-02   Albury      7.4     25.1       0.0          NaN       NaN   \n",
       "2  2008-12-03   Albury     12.9     25.7       0.0          NaN       NaN   \n",
       "3  2008-12-04   Albury      9.2     28.0       0.0          NaN       NaN   \n",
       "4  2008-12-05   Albury     17.5     32.3       1.0          NaN       NaN   \n",
       "\n",
       "  WindGustDir  WindGustSpeed WindDir9am  ... Humidity9am  Humidity3pm  \\\n",
       "0           W           44.0          W  ...        71.0         22.0   \n",
       "1         WNW           44.0        NNW  ...        44.0         25.0   \n",
       "2         WSW           46.0          W  ...        38.0         30.0   \n",
       "3          NE           24.0         SE  ...        45.0         16.0   \n",
       "4           W           41.0        ENE  ...        82.0         33.0   \n",
       "\n",
       "   Pressure9am  Pressure3pm  Cloud9am  Cloud3pm  Temp9am  Temp3pm  RainToday  \\\n",
       "0       1007.7       1007.1       8.0       NaN     16.9     21.8         No   \n",
       "1       1010.6       1007.8       NaN       NaN     17.2     24.3         No   \n",
       "2       1007.6       1008.7       NaN       2.0     21.0     23.2         No   \n",
       "3       1017.6       1012.8       NaN       NaN     18.1     26.5         No   \n",
       "4       1010.8       1006.0       7.0       8.0     17.8     29.7         No   \n",
       "\n",
       "   RainTomorrow  \n",
       "0            No  \n",
       "1            No  \n",
       "2            No  \n",
       "3            No  \n",
       "4            No  \n",
       "\n",
       "[5 rows x 23 columns]"
      ]
     },
     "execution_count": 3,
     "metadata": {},
     "output_type": "execute_result"
    }
   ],
   "source": [
    "df.head()"
   ]
  },
  {
   "cell_type": "markdown",
   "id": "acca86ca",
   "metadata": {},
   "source": [
    "<h3> Cantidad de lugares distintos de la base de datos </h3>"
   ]
  },
  {
   "cell_type": "code",
   "execution_count": 4,
   "id": "5d7d236c",
   "metadata": {},
   "outputs": [
    {
     "data": {
      "text/plain": [
       "49"
      ]
     },
     "execution_count": 4,
     "metadata": {},
     "output_type": "execute_result"
    }
   ],
   "source": [
    "len(df['Location'].unique())"
   ]
  },
  {
   "cell_type": "markdown",
   "id": "9b47a53d",
   "metadata": {},
   "source": [
    "<h4> Hacemos una copia del la base de datos para cambiar los valores de 'yes' y 'no' por valores booleanos en la copia del DF </h4>"
   ]
  },
  {
   "cell_type": "code",
   "execution_count": 5,
   "id": "640b666f",
   "metadata": {},
   "outputs": [],
   "source": [
    "data = df.copy()"
   ]
  },
  {
   "cell_type": "code",
   "execution_count": 6,
   "id": "c16ff81d",
   "metadata": {},
   "outputs": [],
   "source": [
    "data['RainToday'] = (data['RainToday'] == 'Yes')*1\n",
    "data['RainTomorrow'] = (data['RainTomorrow'] == 'Yes')*1"
   ]
  },
  {
   "cell_type": "markdown",
   "id": "e482c6d8",
   "metadata": {},
   "source": [
    "<h4>Cambiamos las abreviaciones de las direcciones del viento en las respectivas columnas </h4>"
   ]
  },
  {
   "cell_type": "code",
   "execution_count": 7,
   "id": "8cc75dc7",
   "metadata": {},
   "outputs": [
    {
     "data": {
      "text/plain": [
       "Index(['Date', 'Location', 'MinTemp', 'MaxTemp', 'Rainfall', 'Evaporation',\n",
       "       'Sunshine', 'WindGustDir', 'WindGustSpeed', 'WindDir9am', 'WindDir3pm',\n",
       "       'WindSpeed9am', 'WindSpeed3pm', 'Humidity9am', 'Humidity3pm',\n",
       "       'Pressure9am', 'Pressure3pm', 'Cloud9am', 'Cloud3pm', 'Temp9am',\n",
       "       'Temp3pm', 'RainToday', 'RainTomorrow'],\n",
       "      dtype='object')"
      ]
     },
     "execution_count": 7,
     "metadata": {},
     "output_type": "execute_result"
    }
   ],
   "source": [
    "data.columns"
   ]
  },
  {
   "cell_type": "code",
   "execution_count": 8,
   "id": "1b08366e",
   "metadata": {},
   "outputs": [
    {
     "name": "stdout",
     "output_type": "stream",
     "text": [
      "['W' 'WNW' 'WSW' 'NE' 'NNW' 'N' 'NNE' 'SW' nan 'ENE' 'SSE' 'S' 'NW' 'SE'\n",
      " 'ESE' 'E' 'SSW']\n",
      "['W' 'NNW' 'SE' 'ENE' 'SW' 'SSE' 'S' 'NE' nan 'SSW' 'N' 'WSW' 'ESE' 'E'\n",
      " 'NW' 'WNW' 'NNE']\n",
      "['WNW' 'WSW' 'E' 'NW' 'W' 'SSE' 'ESE' 'ENE' 'NNW' 'SSW' 'SW' 'SE' 'N' 'S'\n",
      " 'NNE' nan 'NE']\n"
     ]
    }
   ],
   "source": [
    "print(data.WindGustDir.unique())\n",
    "print(data.WindDir9am.unique())\n",
    "print(data.WindDir3pm.unique())"
   ]
  },
  {
   "cell_type": "code",
   "execution_count": 9,
   "id": "14866046",
   "metadata": {},
   "outputs": [],
   "source": [
    "Ab_WD = ['N','NNE','NE','ENE','E','ESE','SE','SSE','S', 'SSW','SW','WSW','W','WNW','NW','NNW']\n",
    "WD = [0,22.5,45,67.5,90,112.5,135,157.5,180,202.5,225,247.5,270,292.5,315,337.5]\n",
    "Col_WindDir = ['WindGustDir','WindDir9am','WindDir3pm']"
   ]
  },
  {
   "cell_type": "code",
   "execution_count": 10,
   "id": "b4967789",
   "metadata": {},
   "outputs": [
    {
     "data": {
      "text/plain": [
       "{'N': 0.0,\n",
       " 'NNE': 22.5,\n",
       " 'NE': 45.0,\n",
       " 'ENE': 67.5,\n",
       " 'E': 90.0,\n",
       " 'ESE': 112.5,\n",
       " 'SE': 135.0,\n",
       " 'SSE': 157.5,\n",
       " 'S': 180.0,\n",
       " 'SSW': 202.5,\n",
       " 'SW': 225.0,\n",
       " 'WSW': 247.5,\n",
       " 'W': 270.0,\n",
       " 'WNW': 292.5,\n",
       " 'NW': 315.0,\n",
       " 'NNW': 337.5}"
      ]
     },
     "execution_count": 10,
     "metadata": {},
     "output_type": "execute_result"
    }
   ],
   "source": [
    "#Dataframe de mapeo\n",
    "Wind_Dir = pd.DataFrame({\n",
    "    'Ab_WD': Ab_WD,\n",
    "    'WD': WD\n",
    "    })\n",
    "\n",
    "#convertir a diccionario\n",
    "wind_dir_map = dict(zip(Wind_Dir['Ab_WD'], Wind_Dir['WD']))\n",
    "wind_dir_map"
   ]
  },
  {
   "cell_type": "code",
   "execution_count": 11,
   "id": "37c49ecd",
   "metadata": {},
   "outputs": [],
   "source": [
    "for column in Col_WindDir:\n",
    "    data[column] = data[column].map(wind_dir_map)"
   ]
  },
  {
   "cell_type": "markdown",
   "id": "0bb45a75",
   "metadata": {},
   "source": [
    "<h4> Ahora veamos la cantidad de valores nulos que hay en la base de datos</h4>"
   ]
  },
  {
   "cell_type": "markdown",
   "id": "8b3ad623",
   "metadata": {},
   "source": [
    "<h4>Cantidad de valores nulos </h4>"
   ]
  },
  {
   "cell_type": "code",
   "execution_count": 12,
   "id": "405430ac",
   "metadata": {},
   "outputs": [
    {
     "name": "stdout",
     "output_type": "stream",
     "text": [
      "<class 'pandas.core.frame.DataFrame'>\n",
      "RangeIndex: 145460 entries, 0 to 145459\n",
      "Data columns (total 23 columns):\n",
      " #   Column         Non-Null Count   Dtype  \n",
      "---  ------         --------------   -----  \n",
      " 0   Date           145460 non-null  object \n",
      " 1   Location       145460 non-null  object \n",
      " 2   MinTemp        143975 non-null  float64\n",
      " 3   MaxTemp        144199 non-null  float64\n",
      " 4   Rainfall       142199 non-null  float64\n",
      " 5   Evaporation    82670 non-null   float64\n",
      " 6   Sunshine       75625 non-null   float64\n",
      " 7   WindGustDir    135134 non-null  float64\n",
      " 8   WindGustSpeed  135197 non-null  float64\n",
      " 9   WindDir9am     134894 non-null  float64\n",
      " 10  WindDir3pm     141232 non-null  float64\n",
      " 11  WindSpeed9am   143693 non-null  float64\n",
      " 12  WindSpeed3pm   142398 non-null  float64\n",
      " 13  Humidity9am    142806 non-null  float64\n",
      " 14  Humidity3pm    140953 non-null  float64\n",
      " 15  Pressure9am    130395 non-null  float64\n",
      " 16  Pressure3pm    130432 non-null  float64\n",
      " 17  Cloud9am       89572 non-null   float64\n",
      " 18  Cloud3pm       86102 non-null   float64\n",
      " 19  Temp9am        143693 non-null  float64\n",
      " 20  Temp3pm        141851 non-null  float64\n",
      " 21  RainToday      145460 non-null  int64  \n",
      " 22  RainTomorrow   145460 non-null  int64  \n",
      "dtypes: float64(19), int64(2), object(2)\n",
      "memory usage: 25.5+ MB\n"
     ]
    }
   ],
   "source": [
    "data.info()"
   ]
  },
  {
   "cell_type": "code",
   "execution_count": 13,
   "id": "d6a0ae25",
   "metadata": {},
   "outputs": [
    {
     "data": {
      "text/plain": [
       "Date                 0\n",
       "Location             0\n",
       "MinTemp           1485\n",
       "MaxTemp           1261\n",
       "Rainfall          3261\n",
       "Evaporation      62790\n",
       "Sunshine         69835\n",
       "WindGustDir      10326\n",
       "WindGustSpeed    10263\n",
       "WindDir9am       10566\n",
       "WindDir3pm        4228\n",
       "WindSpeed9am      1767\n",
       "WindSpeed3pm      3062\n",
       "Humidity9am       2654\n",
       "Humidity3pm       4507\n",
       "Pressure9am      15065\n",
       "Pressure3pm      15028\n",
       "Cloud9am         55888\n",
       "Cloud3pm         59358\n",
       "Temp9am           1767\n",
       "Temp3pm           3609\n",
       "RainToday            0\n",
       "RainTomorrow         0\n",
       "dtype: int64"
      ]
     },
     "execution_count": 13,
     "metadata": {},
     "output_type": "execute_result"
    }
   ],
   "source": [
    "data.isnull().sum()"
   ]
  },
  {
   "cell_type": "markdown",
   "id": "6571828d",
   "metadata": {},
   "source": [
    "<h4>Calculemos los coeficientes de correlación de la base de datos para darnos una idea de que columnas pueden ser de utilidad y cuales no. </h4>"
   ]
  },
  {
   "cell_type": "code",
   "execution_count": 14,
   "id": "7c7d034a",
   "metadata": {},
   "outputs": [
    {
     "data": {
      "text/html": [
       "<div>\n",
       "<style scoped>\n",
       "    .dataframe tbody tr th:only-of-type {\n",
       "        vertical-align: middle;\n",
       "    }\n",
       "\n",
       "    .dataframe tbody tr th {\n",
       "        vertical-align: top;\n",
       "    }\n",
       "\n",
       "    .dataframe thead th {\n",
       "        text-align: right;\n",
       "    }\n",
       "</style>\n",
       "<table border=\"1\" class=\"dataframe\">\n",
       "  <thead>\n",
       "    <tr style=\"text-align: right;\">\n",
       "      <th></th>\n",
       "      <th>MinTemp</th>\n",
       "      <th>MaxTemp</th>\n",
       "      <th>Rainfall</th>\n",
       "      <th>Evaporation</th>\n",
       "      <th>Sunshine</th>\n",
       "      <th>WindGustDir</th>\n",
       "      <th>WindGustSpeed</th>\n",
       "      <th>WindDir9am</th>\n",
       "      <th>WindDir3pm</th>\n",
       "      <th>WindSpeed9am</th>\n",
       "      <th>...</th>\n",
       "      <th>Humidity9am</th>\n",
       "      <th>Humidity3pm</th>\n",
       "      <th>Pressure9am</th>\n",
       "      <th>Pressure3pm</th>\n",
       "      <th>Cloud9am</th>\n",
       "      <th>Cloud3pm</th>\n",
       "      <th>Temp9am</th>\n",
       "      <th>Temp3pm</th>\n",
       "      <th>RainToday</th>\n",
       "      <th>RainTomorrow</th>\n",
       "    </tr>\n",
       "  </thead>\n",
       "  <tbody>\n",
       "    <tr>\n",
       "      <th>MinTemp</th>\n",
       "      <td>1.000000</td>\n",
       "      <td>0.736555</td>\n",
       "      <td>0.103938</td>\n",
       "      <td>0.466993</td>\n",
       "      <td>0.072586</td>\n",
       "      <td>-0.176323</td>\n",
       "      <td>0.177415</td>\n",
       "      <td>-0.101278</td>\n",
       "      <td>-0.180212</td>\n",
       "      <td>0.175064</td>\n",
       "      <td>...</td>\n",
       "      <td>-0.232899</td>\n",
       "      <td>0.006089</td>\n",
       "      <td>-0.450970</td>\n",
       "      <td>-0.461292</td>\n",
       "      <td>0.078754</td>\n",
       "      <td>0.021605</td>\n",
       "      <td>0.901821</td>\n",
       "      <td>0.708906</td>\n",
       "      <td>0.054702</td>\n",
       "      <td>0.082455</td>\n",
       "    </tr>\n",
       "    <tr>\n",
       "      <th>MaxTemp</th>\n",
       "      <td>0.736555</td>\n",
       "      <td>1.000000</td>\n",
       "      <td>-0.074992</td>\n",
       "      <td>0.587932</td>\n",
       "      <td>0.470156</td>\n",
       "      <td>-0.189961</td>\n",
       "      <td>0.067615</td>\n",
       "      <td>-0.241169</td>\n",
       "      <td>-0.151406</td>\n",
       "      <td>0.014450</td>\n",
       "      <td>...</td>\n",
       "      <td>-0.504110</td>\n",
       "      <td>-0.508855</td>\n",
       "      <td>-0.332061</td>\n",
       "      <td>-0.427167</td>\n",
       "      <td>-0.289370</td>\n",
       "      <td>-0.277921</td>\n",
       "      <td>0.887210</td>\n",
       "      <td>0.984503</td>\n",
       "      <td>-0.226001</td>\n",
       "      <td>-0.157141</td>\n",
       "    </tr>\n",
       "    <tr>\n",
       "      <th>Rainfall</th>\n",
       "      <td>0.103938</td>\n",
       "      <td>-0.074992</td>\n",
       "      <td>1.000000</td>\n",
       "      <td>-0.064351</td>\n",
       "      <td>-0.227549</td>\n",
       "      <td>0.035316</td>\n",
       "      <td>0.133659</td>\n",
       "      <td>0.068652</td>\n",
       "      <td>0.034060</td>\n",
       "      <td>0.087338</td>\n",
       "      <td>...</td>\n",
       "      <td>0.224405</td>\n",
       "      <td>0.255755</td>\n",
       "      <td>-0.168154</td>\n",
       "      <td>-0.126534</td>\n",
       "      <td>0.198528</td>\n",
       "      <td>0.172403</td>\n",
       "      <td>0.011192</td>\n",
       "      <td>-0.079657</td>\n",
       "      <td>0.501516</td>\n",
       "      <td>0.236461</td>\n",
       "    </tr>\n",
       "    <tr>\n",
       "      <th>Evaporation</th>\n",
       "      <td>0.466993</td>\n",
       "      <td>0.587932</td>\n",
       "      <td>-0.064351</td>\n",
       "      <td>1.000000</td>\n",
       "      <td>0.365602</td>\n",
       "      <td>-0.097017</td>\n",
       "      <td>0.203021</td>\n",
       "      <td>-0.124446</td>\n",
       "      <td>-0.067127</td>\n",
       "      <td>0.193084</td>\n",
       "      <td>...</td>\n",
       "      <td>-0.504092</td>\n",
       "      <td>-0.390243</td>\n",
       "      <td>-0.270362</td>\n",
       "      <td>-0.293581</td>\n",
       "      <td>-0.183793</td>\n",
       "      <td>-0.182618</td>\n",
       "      <td>0.545115</td>\n",
       "      <td>0.572893</td>\n",
       "      <td>-0.185197</td>\n",
       "      <td>-0.117719</td>\n",
       "    </tr>\n",
       "    <tr>\n",
       "      <th>Sunshine</th>\n",
       "      <td>0.072586</td>\n",
       "      <td>0.470156</td>\n",
       "      <td>-0.227549</td>\n",
       "      <td>0.365602</td>\n",
       "      <td>1.000000</td>\n",
       "      <td>-0.070306</td>\n",
       "      <td>-0.034750</td>\n",
       "      <td>-0.082111</td>\n",
       "      <td>-0.039864</td>\n",
       "      <td>0.005499</td>\n",
       "      <td>...</td>\n",
       "      <td>-0.490819</td>\n",
       "      <td>-0.629130</td>\n",
       "      <td>0.041970</td>\n",
       "      <td>-0.019719</td>\n",
       "      <td>-0.675323</td>\n",
       "      <td>-0.703930</td>\n",
       "      <td>0.291188</td>\n",
       "      <td>0.490501</td>\n",
       "      <td>-0.324613</td>\n",
       "      <td>-0.443561</td>\n",
       "    </tr>\n",
       "    <tr>\n",
       "      <th>WindGustDir</th>\n",
       "      <td>-0.176323</td>\n",
       "      <td>-0.189961</td>\n",
       "      <td>0.035316</td>\n",
       "      <td>-0.097017</td>\n",
       "      <td>-0.070306</td>\n",
       "      <td>1.000000</td>\n",
       "      <td>0.144440</td>\n",
       "      <td>0.355927</td>\n",
       "      <td>0.564141</td>\n",
       "      <td>-0.000750</td>\n",
       "      <td>...</td>\n",
       "      <td>0.055518</td>\n",
       "      <td>0.014615</td>\n",
       "      <td>-0.164097</td>\n",
       "      <td>-0.097898</td>\n",
       "      <td>0.072232</td>\n",
       "      <td>0.074368</td>\n",
       "      <td>-0.195585</td>\n",
       "      <td>-0.199750</td>\n",
       "      <td>0.109109</td>\n",
       "      <td>0.059817</td>\n",
       "    </tr>\n",
       "    <tr>\n",
       "      <th>WindGustSpeed</th>\n",
       "      <td>0.177415</td>\n",
       "      <td>0.067615</td>\n",
       "      <td>0.133659</td>\n",
       "      <td>0.203021</td>\n",
       "      <td>-0.034750</td>\n",
       "      <td>0.144440</td>\n",
       "      <td>1.000000</td>\n",
       "      <td>0.044181</td>\n",
       "      <td>0.138491</td>\n",
       "      <td>0.605303</td>\n",
       "      <td>...</td>\n",
       "      <td>-0.215070</td>\n",
       "      <td>-0.026327</td>\n",
       "      <td>-0.458744</td>\n",
       "      <td>-0.413749</td>\n",
       "      <td>0.071736</td>\n",
       "      <td>0.109168</td>\n",
       "      <td>0.150150</td>\n",
       "      <td>0.032748</td>\n",
       "      <td>0.151605</td>\n",
       "      <td>0.229195</td>\n",
       "    </tr>\n",
       "    <tr>\n",
       "      <th>WindDir9am</th>\n",
       "      <td>-0.101278</td>\n",
       "      <td>-0.241169</td>\n",
       "      <td>0.068652</td>\n",
       "      <td>-0.124446</td>\n",
       "      <td>-0.082111</td>\n",
       "      <td>0.355927</td>\n",
       "      <td>0.044181</td>\n",
       "      <td>1.000000</td>\n",
       "      <td>0.261895</td>\n",
       "      <td>-0.007367</td>\n",
       "      <td>...</td>\n",
       "      <td>0.136257</td>\n",
       "      <td>0.156166</td>\n",
       "      <td>-0.064724</td>\n",
       "      <td>0.013762</td>\n",
       "      <td>0.077716</td>\n",
       "      <td>0.051256</td>\n",
       "      <td>-0.172810</td>\n",
       "      <td>-0.251392</td>\n",
       "      <td>0.146068</td>\n",
       "      <td>0.037027</td>\n",
       "    </tr>\n",
       "    <tr>\n",
       "      <th>WindDir3pm</th>\n",
       "      <td>-0.180212</td>\n",
       "      <td>-0.151406</td>\n",
       "      <td>0.034060</td>\n",
       "      <td>-0.067127</td>\n",
       "      <td>-0.039864</td>\n",
       "      <td>0.564141</td>\n",
       "      <td>0.138491</td>\n",
       "      <td>0.261895</td>\n",
       "      <td>1.000000</td>\n",
       "      <td>0.016410</td>\n",
       "      <td>...</td>\n",
       "      <td>0.025388</td>\n",
       "      <td>-0.048623</td>\n",
       "      <td>-0.166488</td>\n",
       "      <td>-0.101580</td>\n",
       "      <td>0.041971</td>\n",
       "      <td>0.058699</td>\n",
       "      <td>-0.183184</td>\n",
       "      <td>-0.156264</td>\n",
       "      <td>0.095618</td>\n",
       "      <td>0.045575</td>\n",
       "    </tr>\n",
       "    <tr>\n",
       "      <th>WindSpeed9am</th>\n",
       "      <td>0.175064</td>\n",
       "      <td>0.014450</td>\n",
       "      <td>0.087338</td>\n",
       "      <td>0.193084</td>\n",
       "      <td>0.005499</td>\n",
       "      <td>-0.000750</td>\n",
       "      <td>0.605303</td>\n",
       "      <td>-0.007367</td>\n",
       "      <td>0.016410</td>\n",
       "      <td>1.000000</td>\n",
       "      <td>...</td>\n",
       "      <td>-0.270858</td>\n",
       "      <td>-0.031614</td>\n",
       "      <td>-0.228743</td>\n",
       "      <td>-0.175817</td>\n",
       "      <td>0.025112</td>\n",
       "      <td>0.054639</td>\n",
       "      <td>0.128545</td>\n",
       "      <td>0.004569</td>\n",
       "      <td>0.099084</td>\n",
       "      <td>0.087145</td>\n",
       "    </tr>\n",
       "    <tr>\n",
       "      <th>WindSpeed3pm</th>\n",
       "      <td>0.175173</td>\n",
       "      <td>0.050300</td>\n",
       "      <td>0.057887</td>\n",
       "      <td>0.129400</td>\n",
       "      <td>0.053834</td>\n",
       "      <td>0.083719</td>\n",
       "      <td>0.686307</td>\n",
       "      <td>0.060179</td>\n",
       "      <td>0.074835</td>\n",
       "      <td>0.519547</td>\n",
       "      <td>...</td>\n",
       "      <td>-0.145525</td>\n",
       "      <td>0.016432</td>\n",
       "      <td>-0.296351</td>\n",
       "      <td>-0.255439</td>\n",
       "      <td>0.053337</td>\n",
       "      <td>0.025396</td>\n",
       "      <td>0.163030</td>\n",
       "      <td>0.027778</td>\n",
       "      <td>0.077913</td>\n",
       "      <td>0.085119</td>\n",
       "    </tr>\n",
       "    <tr>\n",
       "      <th>Humidity9am</th>\n",
       "      <td>-0.232899</td>\n",
       "      <td>-0.504110</td>\n",
       "      <td>0.224405</td>\n",
       "      <td>-0.504092</td>\n",
       "      <td>-0.490819</td>\n",
       "      <td>0.055518</td>\n",
       "      <td>-0.215070</td>\n",
       "      <td>0.136257</td>\n",
       "      <td>0.025388</td>\n",
       "      <td>-0.270858</td>\n",
       "      <td>...</td>\n",
       "      <td>1.000000</td>\n",
       "      <td>0.666949</td>\n",
       "      <td>0.139442</td>\n",
       "      <td>0.186858</td>\n",
       "      <td>0.452297</td>\n",
       "      <td>0.357326</td>\n",
       "      <td>-0.471354</td>\n",
       "      <td>-0.498399</td>\n",
       "      <td>0.349752</td>\n",
       "      <td>0.253657</td>\n",
       "    </tr>\n",
       "    <tr>\n",
       "      <th>Humidity3pm</th>\n",
       "      <td>0.006089</td>\n",
       "      <td>-0.508855</td>\n",
       "      <td>0.255755</td>\n",
       "      <td>-0.390243</td>\n",
       "      <td>-0.629130</td>\n",
       "      <td>0.014615</td>\n",
       "      <td>-0.026327</td>\n",
       "      <td>0.156166</td>\n",
       "      <td>-0.048623</td>\n",
       "      <td>-0.031614</td>\n",
       "      <td>...</td>\n",
       "      <td>0.666949</td>\n",
       "      <td>1.000000</td>\n",
       "      <td>-0.027544</td>\n",
       "      <td>0.051997</td>\n",
       "      <td>0.517120</td>\n",
       "      <td>0.523120</td>\n",
       "      <td>-0.221019</td>\n",
       "      <td>-0.557841</td>\n",
       "      <td>0.373596</td>\n",
       "      <td>0.439929</td>\n",
       "    </tr>\n",
       "    <tr>\n",
       "      <th>Pressure9am</th>\n",
       "      <td>-0.450970</td>\n",
       "      <td>-0.332061</td>\n",
       "      <td>-0.168154</td>\n",
       "      <td>-0.270362</td>\n",
       "      <td>0.041970</td>\n",
       "      <td>-0.164097</td>\n",
       "      <td>-0.458744</td>\n",
       "      <td>-0.064724</td>\n",
       "      <td>-0.166488</td>\n",
       "      <td>-0.228743</td>\n",
       "      <td>...</td>\n",
       "      <td>0.139442</td>\n",
       "      <td>-0.027544</td>\n",
       "      <td>1.000000</td>\n",
       "      <td>0.961326</td>\n",
       "      <td>-0.129796</td>\n",
       "      <td>-0.147861</td>\n",
       "      <td>-0.422556</td>\n",
       "      <td>-0.286770</td>\n",
       "      <td>-0.187547</td>\n",
       "      <td>-0.243348</td>\n",
       "    </tr>\n",
       "    <tr>\n",
       "      <th>Pressure3pm</th>\n",
       "      <td>-0.461292</td>\n",
       "      <td>-0.427167</td>\n",
       "      <td>-0.126534</td>\n",
       "      <td>-0.293581</td>\n",
       "      <td>-0.019719</td>\n",
       "      <td>-0.097898</td>\n",
       "      <td>-0.413749</td>\n",
       "      <td>0.013762</td>\n",
       "      <td>-0.101580</td>\n",
       "      <td>-0.175817</td>\n",
       "      <td>...</td>\n",
       "      <td>0.186858</td>\n",
       "      <td>0.051997</td>\n",
       "      <td>0.961326</td>\n",
       "      <td>1.000000</td>\n",
       "      <td>-0.060772</td>\n",
       "      <td>-0.084778</td>\n",
       "      <td>-0.470187</td>\n",
       "      <td>-0.389548</td>\n",
       "      <td>-0.104862</td>\n",
       "      <td>-0.223351</td>\n",
       "    </tr>\n",
       "    <tr>\n",
       "      <th>Cloud9am</th>\n",
       "      <td>0.078754</td>\n",
       "      <td>-0.289370</td>\n",
       "      <td>0.198528</td>\n",
       "      <td>-0.183793</td>\n",
       "      <td>-0.675323</td>\n",
       "      <td>0.072232</td>\n",
       "      <td>0.071736</td>\n",
       "      <td>0.077716</td>\n",
       "      <td>0.041971</td>\n",
       "      <td>0.025112</td>\n",
       "      <td>...</td>\n",
       "      <td>0.452297</td>\n",
       "      <td>0.517120</td>\n",
       "      <td>-0.129796</td>\n",
       "      <td>-0.060772</td>\n",
       "      <td>1.000000</td>\n",
       "      <td>0.603564</td>\n",
       "      <td>-0.136959</td>\n",
       "      <td>-0.302060</td>\n",
       "      <td>0.302182</td>\n",
       "      <td>0.313025</td>\n",
       "    </tr>\n",
       "    <tr>\n",
       "      <th>Cloud3pm</th>\n",
       "      <td>0.021605</td>\n",
       "      <td>-0.277921</td>\n",
       "      <td>0.172403</td>\n",
       "      <td>-0.182618</td>\n",
       "      <td>-0.703930</td>\n",
       "      <td>0.074368</td>\n",
       "      <td>0.109168</td>\n",
       "      <td>0.051256</td>\n",
       "      <td>0.058699</td>\n",
       "      <td>0.054639</td>\n",
       "      <td>...</td>\n",
       "      <td>0.357326</td>\n",
       "      <td>0.523120</td>\n",
       "      <td>-0.147861</td>\n",
       "      <td>-0.084778</td>\n",
       "      <td>0.603564</td>\n",
       "      <td>1.000000</td>\n",
       "      <td>-0.126659</td>\n",
       "      <td>-0.317420</td>\n",
       "      <td>0.268921</td>\n",
       "      <td>0.377607</td>\n",
       "    </tr>\n",
       "    <tr>\n",
       "      <th>Temp9am</th>\n",
       "      <td>0.901821</td>\n",
       "      <td>0.887210</td>\n",
       "      <td>0.011192</td>\n",
       "      <td>0.545115</td>\n",
       "      <td>0.291188</td>\n",
       "      <td>-0.195585</td>\n",
       "      <td>0.150150</td>\n",
       "      <td>-0.172810</td>\n",
       "      <td>-0.183184</td>\n",
       "      <td>0.128545</td>\n",
       "      <td>...</td>\n",
       "      <td>-0.471354</td>\n",
       "      <td>-0.221019</td>\n",
       "      <td>-0.422556</td>\n",
       "      <td>-0.470187</td>\n",
       "      <td>-0.136959</td>\n",
       "      <td>-0.126659</td>\n",
       "      <td>1.000000</td>\n",
       "      <td>0.860591</td>\n",
       "      <td>-0.096357</td>\n",
       "      <td>-0.025685</td>\n",
       "    </tr>\n",
       "    <tr>\n",
       "      <th>Temp3pm</th>\n",
       "      <td>0.708906</td>\n",
       "      <td>0.984503</td>\n",
       "      <td>-0.079657</td>\n",
       "      <td>0.572893</td>\n",
       "      <td>0.490501</td>\n",
       "      <td>-0.199750</td>\n",
       "      <td>0.032748</td>\n",
       "      <td>-0.251392</td>\n",
       "      <td>-0.156264</td>\n",
       "      <td>0.004569</td>\n",
       "      <td>...</td>\n",
       "      <td>-0.498399</td>\n",
       "      <td>-0.557841</td>\n",
       "      <td>-0.286770</td>\n",
       "      <td>-0.389548</td>\n",
       "      <td>-0.302060</td>\n",
       "      <td>-0.317420</td>\n",
       "      <td>0.860591</td>\n",
       "      <td>1.000000</td>\n",
       "      <td>-0.232407</td>\n",
       "      <td>-0.190073</td>\n",
       "    </tr>\n",
       "    <tr>\n",
       "      <th>RainToday</th>\n",
       "      <td>0.054702</td>\n",
       "      <td>-0.226001</td>\n",
       "      <td>0.501516</td>\n",
       "      <td>-0.185197</td>\n",
       "      <td>-0.324613</td>\n",
       "      <td>0.109109</td>\n",
       "      <td>0.151605</td>\n",
       "      <td>0.146068</td>\n",
       "      <td>0.095618</td>\n",
       "      <td>0.099084</td>\n",
       "      <td>...</td>\n",
       "      <td>0.349752</td>\n",
       "      <td>0.373596</td>\n",
       "      <td>-0.187547</td>\n",
       "      <td>-0.104862</td>\n",
       "      <td>0.302182</td>\n",
       "      <td>0.268921</td>\n",
       "      <td>-0.096357</td>\n",
       "      <td>-0.232407</td>\n",
       "      <td>1.000000</td>\n",
       "      <td>0.305744</td>\n",
       "    </tr>\n",
       "    <tr>\n",
       "      <th>RainTomorrow</th>\n",
       "      <td>0.082455</td>\n",
       "      <td>-0.157141</td>\n",
       "      <td>0.236461</td>\n",
       "      <td>-0.117719</td>\n",
       "      <td>-0.443561</td>\n",
       "      <td>0.059817</td>\n",
       "      <td>0.229195</td>\n",
       "      <td>0.037027</td>\n",
       "      <td>0.045575</td>\n",
       "      <td>0.087145</td>\n",
       "      <td>...</td>\n",
       "      <td>0.253657</td>\n",
       "      <td>0.439929</td>\n",
       "      <td>-0.243348</td>\n",
       "      <td>-0.223351</td>\n",
       "      <td>0.313025</td>\n",
       "      <td>0.377607</td>\n",
       "      <td>-0.025685</td>\n",
       "      <td>-0.190073</td>\n",
       "      <td>0.305744</td>\n",
       "      <td>1.000000</td>\n",
       "    </tr>\n",
       "  </tbody>\n",
       "</table>\n",
       "<p>21 rows × 21 columns</p>\n",
       "</div>"
      ],
      "text/plain": [
       "                MinTemp   MaxTemp  Rainfall  Evaporation  Sunshine  \\\n",
       "MinTemp        1.000000  0.736555  0.103938     0.466993  0.072586   \n",
       "MaxTemp        0.736555  1.000000 -0.074992     0.587932  0.470156   \n",
       "Rainfall       0.103938 -0.074992  1.000000    -0.064351 -0.227549   \n",
       "Evaporation    0.466993  0.587932 -0.064351     1.000000  0.365602   \n",
       "Sunshine       0.072586  0.470156 -0.227549     0.365602  1.000000   \n",
       "WindGustDir   -0.176323 -0.189961  0.035316    -0.097017 -0.070306   \n",
       "WindGustSpeed  0.177415  0.067615  0.133659     0.203021 -0.034750   \n",
       "WindDir9am    -0.101278 -0.241169  0.068652    -0.124446 -0.082111   \n",
       "WindDir3pm    -0.180212 -0.151406  0.034060    -0.067127 -0.039864   \n",
       "WindSpeed9am   0.175064  0.014450  0.087338     0.193084  0.005499   \n",
       "WindSpeed3pm   0.175173  0.050300  0.057887     0.129400  0.053834   \n",
       "Humidity9am   -0.232899 -0.504110  0.224405    -0.504092 -0.490819   \n",
       "Humidity3pm    0.006089 -0.508855  0.255755    -0.390243 -0.629130   \n",
       "Pressure9am   -0.450970 -0.332061 -0.168154    -0.270362  0.041970   \n",
       "Pressure3pm   -0.461292 -0.427167 -0.126534    -0.293581 -0.019719   \n",
       "Cloud9am       0.078754 -0.289370  0.198528    -0.183793 -0.675323   \n",
       "Cloud3pm       0.021605 -0.277921  0.172403    -0.182618 -0.703930   \n",
       "Temp9am        0.901821  0.887210  0.011192     0.545115  0.291188   \n",
       "Temp3pm        0.708906  0.984503 -0.079657     0.572893  0.490501   \n",
       "RainToday      0.054702 -0.226001  0.501516    -0.185197 -0.324613   \n",
       "RainTomorrow   0.082455 -0.157141  0.236461    -0.117719 -0.443561   \n",
       "\n",
       "               WindGustDir  WindGustSpeed  WindDir9am  WindDir3pm  \\\n",
       "MinTemp          -0.176323       0.177415   -0.101278   -0.180212   \n",
       "MaxTemp          -0.189961       0.067615   -0.241169   -0.151406   \n",
       "Rainfall          0.035316       0.133659    0.068652    0.034060   \n",
       "Evaporation      -0.097017       0.203021   -0.124446   -0.067127   \n",
       "Sunshine         -0.070306      -0.034750   -0.082111   -0.039864   \n",
       "WindGustDir       1.000000       0.144440    0.355927    0.564141   \n",
       "WindGustSpeed     0.144440       1.000000    0.044181    0.138491   \n",
       "WindDir9am        0.355927       0.044181    1.000000    0.261895   \n",
       "WindDir3pm        0.564141       0.138491    0.261895    1.000000   \n",
       "WindSpeed9am     -0.000750       0.605303   -0.007367    0.016410   \n",
       "WindSpeed3pm      0.083719       0.686307    0.060179    0.074835   \n",
       "Humidity9am       0.055518      -0.215070    0.136257    0.025388   \n",
       "Humidity3pm       0.014615      -0.026327    0.156166   -0.048623   \n",
       "Pressure9am      -0.164097      -0.458744   -0.064724   -0.166488   \n",
       "Pressure3pm      -0.097898      -0.413749    0.013762   -0.101580   \n",
       "Cloud9am          0.072232       0.071736    0.077716    0.041971   \n",
       "Cloud3pm          0.074368       0.109168    0.051256    0.058699   \n",
       "Temp9am          -0.195585       0.150150   -0.172810   -0.183184   \n",
       "Temp3pm          -0.199750       0.032748   -0.251392   -0.156264   \n",
       "RainToday         0.109109       0.151605    0.146068    0.095618   \n",
       "RainTomorrow      0.059817       0.229195    0.037027    0.045575   \n",
       "\n",
       "               WindSpeed9am  ...  Humidity9am  Humidity3pm  Pressure9am  \\\n",
       "MinTemp            0.175064  ...    -0.232899     0.006089    -0.450970   \n",
       "MaxTemp            0.014450  ...    -0.504110    -0.508855    -0.332061   \n",
       "Rainfall           0.087338  ...     0.224405     0.255755    -0.168154   \n",
       "Evaporation        0.193084  ...    -0.504092    -0.390243    -0.270362   \n",
       "Sunshine           0.005499  ...    -0.490819    -0.629130     0.041970   \n",
       "WindGustDir       -0.000750  ...     0.055518     0.014615    -0.164097   \n",
       "WindGustSpeed      0.605303  ...    -0.215070    -0.026327    -0.458744   \n",
       "WindDir9am        -0.007367  ...     0.136257     0.156166    -0.064724   \n",
       "WindDir3pm         0.016410  ...     0.025388    -0.048623    -0.166488   \n",
       "WindSpeed9am       1.000000  ...    -0.270858    -0.031614    -0.228743   \n",
       "WindSpeed3pm       0.519547  ...    -0.145525     0.016432    -0.296351   \n",
       "Humidity9am       -0.270858  ...     1.000000     0.666949     0.139442   \n",
       "Humidity3pm       -0.031614  ...     0.666949     1.000000    -0.027544   \n",
       "Pressure9am       -0.228743  ...     0.139442    -0.027544     1.000000   \n",
       "Pressure3pm       -0.175817  ...     0.186858     0.051997     0.961326   \n",
       "Cloud9am           0.025112  ...     0.452297     0.517120    -0.129796   \n",
       "Cloud3pm           0.054639  ...     0.357326     0.523120    -0.147861   \n",
       "Temp9am            0.128545  ...    -0.471354    -0.221019    -0.422556   \n",
       "Temp3pm            0.004569  ...    -0.498399    -0.557841    -0.286770   \n",
       "RainToday          0.099084  ...     0.349752     0.373596    -0.187547   \n",
       "RainTomorrow       0.087145  ...     0.253657     0.439929    -0.243348   \n",
       "\n",
       "               Pressure3pm  Cloud9am  Cloud3pm   Temp9am   Temp3pm  RainToday  \\\n",
       "MinTemp          -0.461292  0.078754  0.021605  0.901821  0.708906   0.054702   \n",
       "MaxTemp          -0.427167 -0.289370 -0.277921  0.887210  0.984503  -0.226001   \n",
       "Rainfall         -0.126534  0.198528  0.172403  0.011192 -0.079657   0.501516   \n",
       "Evaporation      -0.293581 -0.183793 -0.182618  0.545115  0.572893  -0.185197   \n",
       "Sunshine         -0.019719 -0.675323 -0.703930  0.291188  0.490501  -0.324613   \n",
       "WindGustDir      -0.097898  0.072232  0.074368 -0.195585 -0.199750   0.109109   \n",
       "WindGustSpeed    -0.413749  0.071736  0.109168  0.150150  0.032748   0.151605   \n",
       "WindDir9am        0.013762  0.077716  0.051256 -0.172810 -0.251392   0.146068   \n",
       "WindDir3pm       -0.101580  0.041971  0.058699 -0.183184 -0.156264   0.095618   \n",
       "WindSpeed9am     -0.175817  0.025112  0.054639  0.128545  0.004569   0.099084   \n",
       "WindSpeed3pm     -0.255439  0.053337  0.025396  0.163030  0.027778   0.077913   \n",
       "Humidity9am       0.186858  0.452297  0.357326 -0.471354 -0.498399   0.349752   \n",
       "Humidity3pm       0.051997  0.517120  0.523120 -0.221019 -0.557841   0.373596   \n",
       "Pressure9am       0.961326 -0.129796 -0.147861 -0.422556 -0.286770  -0.187547   \n",
       "Pressure3pm       1.000000 -0.060772 -0.084778 -0.470187 -0.389548  -0.104862   \n",
       "Cloud9am         -0.060772  1.000000  0.603564 -0.136959 -0.302060   0.302182   \n",
       "Cloud3pm         -0.084778  0.603564  1.000000 -0.126659 -0.317420   0.268921   \n",
       "Temp9am          -0.470187 -0.136959 -0.126659  1.000000  0.860591  -0.096357   \n",
       "Temp3pm          -0.389548 -0.302060 -0.317420  0.860591  1.000000  -0.232407   \n",
       "RainToday        -0.104862  0.302182  0.268921 -0.096357 -0.232407   1.000000   \n",
       "RainTomorrow     -0.223351  0.313025  0.377607 -0.025685 -0.190073   0.305744   \n",
       "\n",
       "               RainTomorrow  \n",
       "MinTemp            0.082455  \n",
       "MaxTemp           -0.157141  \n",
       "Rainfall           0.236461  \n",
       "Evaporation       -0.117719  \n",
       "Sunshine          -0.443561  \n",
       "WindGustDir        0.059817  \n",
       "WindGustSpeed      0.229195  \n",
       "WindDir9am         0.037027  \n",
       "WindDir3pm         0.045575  \n",
       "WindSpeed9am       0.087145  \n",
       "WindSpeed3pm       0.085119  \n",
       "Humidity9am        0.253657  \n",
       "Humidity3pm        0.439929  \n",
       "Pressure9am       -0.243348  \n",
       "Pressure3pm       -0.223351  \n",
       "Cloud9am           0.313025  \n",
       "Cloud3pm           0.377607  \n",
       "Temp9am           -0.025685  \n",
       "Temp3pm           -0.190073  \n",
       "RainToday          0.305744  \n",
       "RainTomorrow       1.000000  \n",
       "\n",
       "[21 rows x 21 columns]"
      ]
     },
     "execution_count": 14,
     "metadata": {},
     "output_type": "execute_result"
    }
   ],
   "source": [
    "corr_data = data.select_dtypes(include=[float, int]).corr()\n",
    "corr_data"
   ]
  },
  {
   "cell_type": "markdown",
   "id": "19518269",
   "metadata": {},
   "source": [
    "<h4> Visualicemos esto con un gráfico </h4>"
   ]
  },
  {
   "cell_type": "code",
   "execution_count": null,
   "id": "744580f2",
   "metadata": {},
   "outputs": [],
   "source": [
    "plt.figure(figsize=(20,12))\n",
    "sns.heatmap(cor_data,annot=True)\n"
   ]
  },
  {
   "cell_type": "markdown",
   "id": "d5245843",
   "metadata": {},
   "source": [
    "<h4>Cantidad de calores nulos en porcentaje </h4>"
   ]
  },
  {
   "cell_type": "code",
   "execution_count": null,
   "id": "fa7950c1",
   "metadata": {},
   "outputs": [],
   "source": [
    "(data.isnull().sum()*100)/len(data.index)"
   ]
  },
  {
   "cell_type": "markdown",
   "id": "ad97265b",
   "metadata": {},
   "source": [
    "<h4>Dado que queremos un modelo que prediga si lloverá o no en una o varias de las ciudades de la base de datos, lo que haremos será optar por predecir con un modelo de árbol de desiciones (clasificador) </h4>"
   ]
  },
  {
   "cell_type": "markdown",
   "id": "54aad4a2",
   "metadata": {},
   "source": [
    "<h4>Puesto que queremos predecir especificamente en cada ciudad, como primer acercamiento separaremos los datos de cada ciudad en la base de datos y la limpiaremos para proceder a crear el modelo. </h4>"
   ]
  },
  {
   "cell_type": "markdown",
   "id": "5c9a1e13",
   "metadata": {},
   "source": [
    "Para esto creamos un diccionario que contenga las bases de datos de cada lugar\n"
   ]
  },
  {
   "cell_type": "code",
   "execution_count": null,
   "id": "fcb5a1d2",
   "metadata": {},
   "outputs": [],
   "source": [
    "Loc = data['Location'].unique()\n",
    "df_dict_Loc = {elem : pd.DataFrame() for elem in Loc}\n",
    "for key in df_dict_Loc.keys():\n",
    "    df_dict_Loc[key] = data[:][data.Location == key]\n",
    "df_dict_Loc"
   ]
  },
  {
   "cell_type": "code",
   "execution_count": null,
   "id": "2c180ce8",
   "metadata": {},
   "outputs": [],
   "source": [
    "df_dict_Loc"
   ]
  },
  {
   "cell_type": "markdown",
   "id": "62b99be1",
   "metadata": {},
   "source": [
    "Ahora procedemos a limpiar cada base de datos. "
   ]
  },
  {
   "cell_type": "markdown",
   "id": "08eaf8f9",
   "metadata": {},
   "source": [
    "Lo primero sera ver cuantos (porcentaje) valores nulos hay en cada base de datos."
   ]
  },
  {
   "cell_type": "code",
   "execution_count": null,
   "id": "4ed592bb",
   "metadata": {},
   "outputs": [],
   "source": [
    "null_val_perc = {elem : pd.Series(dtype='float64') for elem in Loc}\n",
    "for key in df_dict_Loc.keys():\n",
    "    null_val_perc[key] = (df_dict_Loc[key].isnull().sum()*100)/len(df_dict_Loc[key].index)"
   ]
  },
  {
   "cell_type": "code",
   "execution_count": null,
   "id": "b5b417ff",
   "metadata": {},
   "outputs": [],
   "source": [
    "null_val_perc"
   ]
  },
  {
   "cell_type": "markdown",
   "id": "d7f52f99",
   "metadata": {},
   "source": [
    "Veamos las columnas con mas valores nulos y borremos las columnas que tengan todos sus valores nulos"
   ]
  },
  {
   "cell_type": "code",
   "execution_count": null,
   "id": "b9ec5f80",
   "metadata": {},
   "outputs": [],
   "source": [
    "for key in null_val_perc.keys():\n",
    "    for col in df_dict_Loc[key].columns:\n",
    "        if null_val_perc[key][col] == 100.0:\n",
    "            df_dict_Loc[key]=df_dict_Loc[key].drop([col],axis=1)\n",
    "            null_val_perc[key]=null_val_perc[key].drop([col])"
   ]
  },
  {
   "cell_type": "code",
   "execution_count": null,
   "id": "52c37875",
   "metadata": {},
   "outputs": [],
   "source": [
    "df_dict_Loc"
   ]
  },
  {
   "cell_type": "code",
   "execution_count": null,
   "id": "30e3c684",
   "metadata": {},
   "outputs": [],
   "source": [
    "null_val_perc"
   ]
  },
  {
   "cell_type": "markdown",
   "id": "d246e25f",
   "metadata": {},
   "source": [
    "Dado que todavia hay columnas con valores nulos, en esta ocasión optaremos por rellenar los valores con la media o moda dependiendo del tipo de datos."
   ]
  },
  {
   "cell_type": "markdown",
   "id": "e3fb01e8",
   "metadata": {},
   "source": [
    "Columnas que se rellenan con la moda."
   ]
  },
  {
   "cell_type": "code",
   "execution_count": null,
   "id": "eecbee55",
   "metadata": {},
   "outputs": [],
   "source": [
    "Col_Mode =['WindGustDir','WindDir9am','WindDir3pm','Cloud9am','Cloud3pm']\n",
    "for key in df_dict_Loc.keys():\n",
    "    for col in Col_Mode:\n",
    "        if col in df_dict_Loc[key].columns:\n",
    "            df_dict_Loc[key][col]=df_dict_Loc[key][col].fillna(df_dict_Loc[key][col].mode()[0])"
   ]
  },
  {
   "cell_type": "markdown",
   "id": "5eeb22bd",
   "metadata": {},
   "source": [
    "Columnas que se rellenan con la media."
   ]
  },
  {
   "cell_type": "code",
   "execution_count": null,
   "id": "7a92aca9",
   "metadata": {},
   "outputs": [],
   "source": [
    "for key in df_dict_Loc.keys():\n",
    "    df_dict_Loc[key].fillna(df_dict_Loc[key].mean(), inplace=True)"
   ]
  },
  {
   "cell_type": "markdown",
   "id": "ef5689e6",
   "metadata": {},
   "source": [
    "Ahora no hay base de datos con valores nulos. Corroboremos esto."
   ]
  },
  {
   "cell_type": "code",
   "execution_count": null,
   "id": "c2d475b3",
   "metadata": {},
   "outputs": [],
   "source": [
    "null_val_perc = {elem : pd.Series(dtype='float64') for elem in Loc}\n",
    "for key in df_dict_Loc.keys():\n",
    "    null_val_perc[key] = (df_dict_Loc[key].isnull().sum()*100)/len(df_dict_Loc[key].index)"
   ]
  },
  {
   "cell_type": "code",
   "execution_count": null,
   "id": "3d832b43",
   "metadata": {},
   "outputs": [],
   "source": [
    "null_val_perc"
   ]
  },
  {
   "cell_type": "markdown",
   "id": "8fec3436",
   "metadata": {},
   "source": [
    "Ahora veamos los coeficientes de correlación y decidamos con cuales características qeudarnos \n",
    "para el modelo."
   ]
  },
  {
   "cell_type": "code",
   "execution_count": null,
   "id": "fc936e0a",
   "metadata": {},
   "outputs": [],
   "source": [
    "coef_corr = {elem : pd.DataFrame() for elem in Loc}\n",
    "for key in df_dict_Loc.keys():\n",
    "    coef_corr[key]= df_dict_Loc[key].corr()"
   ]
  },
  {
   "cell_type": "code",
   "execution_count": null,
   "id": "37bc6271",
   "metadata": {},
   "outputs": [],
   "source": [
    "coef_corr"
   ]
  },
  {
   "cell_type": "code",
   "execution_count": null,
   "id": "8613ce19",
   "metadata": {},
   "outputs": [],
   "source": [
    "for keys in df_dict_Loc.keys():\n",
    "    plt.figure(figsize=(20,12))\n",
    "    sns.heatmap(coef_corr[key],annot=True)"
   ]
  },
  {
   "cell_type": "markdown",
   "id": "5395120e",
   "metadata": {},
   "source": [
    "Para el modelo elegiremos las columnas con coeficientes cuyos valores absolutos son\n",
    "mayores o iguales a .1 "
   ]
  },
  {
   "cell_type": "markdown",
   "id": "056aafe6",
   "metadata": {},
   "source": [
    "Coeficientes positivos"
   ]
  },
  {
   "cell_type": "code",
   "execution_count": null,
   "id": "3bbeaef1",
   "metadata": {},
   "outputs": [],
   "source": [
    "coef_corr_p = {elem : pd.DataFrame() for elem in Loc}\n",
    "for key in df_dict_Loc.keys():\n",
    "    coef_corr_p[key]= coef_corr[key][coef_corr[key]['RainTomorrow']>= .1]\n",
    "    coef_corr_p[key]=coef_corr_p[key].drop(['RainTomorrow'],axis=0)"
   ]
  },
  {
   "cell_type": "code",
   "execution_count": null,
   "metadata": {},
   "outputs": [],
   "source": [
    "coef_corr_p"
   ]
  },
  {
   "cell_type": "markdown",
   "metadata": {},
   "source": [
    "Coeficientes negativos"
   ]
  },
  {
   "cell_type": "code",
   "execution_count": null,
   "metadata": {},
   "outputs": [],
   "source": [
    "coef_corr_n = {elem : pd.DataFrame() for elem in df_dict_Loc.keys()}\n",
    "for key in df_dict_Loc.keys():\n",
    "    coef_corr_n[key]= coef_corr[key][coef_corr[key]['RainTomorrow']<= -.1]"
   ]
  },
  {
   "cell_type": "code",
   "execution_count": null,
   "metadata": {},
   "outputs": [],
   "source": [
    "coef_corr_n"
   ]
  },
  {
   "cell_type": "markdown",
   "metadata": {},
   "source": [
    "Ahora tomemos esas características"
   ]
  },
  {
   "cell_type": "code",
   "execution_count": null,
   "metadata": {},
   "outputs": [],
   "source": [
    "total_len = {elem : list() for elem in Loc}\n",
    "for key in df_dict_Loc.keys():\n",
    "    total_len[key].append(len(coef_corr_p[key].index) +len(coef_corr_n[key].index))"
   ]
  },
  {
   "cell_type": "code",
   "execution_count": null,
   "metadata": {},
   "outputs": [],
   "source": [
    "total_len['Albury'][0]"
   ]
  },
  {
   "cell_type": "code",
   "execution_count": null,
   "metadata": {},
   "outputs": [],
   "source": [
    "features = {elem : list() for elem in Loc}\n",
    "for key in df_dict_Loc.keys():\n",
    "    for i in range(0,total_len[key][0]):\n",
    "        if i<=(len(coef_corr_p[key])-1):\n",
    "            features[key].append(coef_corr_p[key].index[i])\n",
    "        elif i >= len(coef_corr_p[key]):\n",
    "            features[key].append(coef_corr_n[key].index[i-(len(coef_corr_p[key])+1)])"
   ]
  },
  {
   "cell_type": "code",
   "execution_count": null,
   "metadata": {},
   "outputs": [],
   "source": [
    "features"
   ]
  },
  {
   "cell_type": "code",
   "execution_count": null,
   "metadata": {},
   "outputs": [],
   "source": []
  },
  {
   "cell_type": "code",
   "execution_count": null,
   "metadata": {},
   "outputs": [],
   "source": [
    "Pasemos a crear los modelos"
   ]
  },
  {
   "cell_type": "code",
   "execution_count": null,
   "metadata": {},
   "outputs": [],
   "source": [
    "X = {elem : pd.DataFrame() for elem in Loc}\n",
    "for key in df_dict_Loc.keys():\n",
    "    X[key]= df_dict_Loc[key][features[key]].copy()"
   ]
  },
  {
   "cell_type": "code",
   "execution_count": null,
   "metadata": {},
   "outputs": [],
   "source": [
    "X"
   ]
  },
  {
   "cell_type": "code",
   "execution_count": null,
   "metadata": {},
   "outputs": [],
   "source": [
    "y = {elem : pd.DataFrame() for elem in Loc}\n",
    "for key in df_dict_Loc.keys():\n",
    "    y[key]= df_dict_Loc[key][['RainTomorrow']].copy()"
   ]
  },
  {
   "cell_type": "code",
   "execution_count": null,
   "metadata": {},
   "outputs": [],
   "source": [
    "y"
   ]
  },
  {
   "cell_type": "markdown",
   "metadata": {},
   "source": [
    "Ya tenemos todo para hacer el modelo, podemos elegir cualquier \"llave \" del\n",
    "diccionario y ver que tan bueno es el modelo"
   ]
  },
  {
   "cell_type": "code",
   "execution_count": null,
   "metadata": {},
   "outputs": [],
   "source": [
    "key='Canberra'\n",
    "X_train, X_test, y_train, y_test = train_test_split(X[key], y[key], test_size=0.33, random_state=324)"
   ]
  },
  {
   "cell_type": "code",
   "execution_count": null,
   "metadata": {},
   "outputs": [],
   "source": [
    "val_met=pd.DataFrame(columns=['node','accuracy'],index=range(22))\n",
    "for i in range(3,25):\n",
    "    Rain_Tomorrow = DecisionTreeClassifier(max_leaf_nodes=i, random_state=0)\n",
    "    Rain_Tomorrow.fit(X_train, y_train)\n",
    "    predictions = Rain_Tomorrow.predict(X_test)\n",
    "    j=i-3\n",
    "    val_met.iloc[j][0] = i \n",
    "    val_met.iloc[j][1]=(accuracy_score(y_true = y_test, y_pred = predictions))\n",
    "    print(i,' ',accuracy_score(y_true = y_test, y_pred = predictions))"
   ]
  },
  {
   "cell_type": "code",
   "execution_count": null,
   "metadata": {},
   "outputs": [],
   "source": []
  }
 ],
 "metadata": {
  "kernelspec": {
   "display_name": "Python 3",
   "language": "python",
   "name": "python3"
  },
  "language_info": {
   "codemirror_mode": {
    "name": "ipython",
    "version": 3
   },
   "file_extension": ".py",
   "mimetype": "text/x-python",
   "name": "python",
   "nbconvert_exporter": "python",
   "pygments_lexer": "ipython3",
   "version": "3.12.4"
  }
 },
 "nbformat": 4,
 "nbformat_minor": 5
}
